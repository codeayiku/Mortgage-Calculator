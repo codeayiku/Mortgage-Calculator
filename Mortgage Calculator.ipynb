{
 "cells": [
  {
   "cell_type": "code",
   "execution_count": 3,
   "id": "170541a7",
   "metadata": {},
   "outputs": [
    {
     "name": "stdout",
     "output_type": "stream",
     "text": [
      "Enter the loan principal: 100000\n",
      "Enter the annual interest rate (as a percentage): 7.5\n",
      "Enter the number of years to pay off the mortgage: 30\n",
      "Welcome to the Mortgage Calculator!\n",
      "You have taken the first step towards your dream factory.\n",
      "Now, let's calculate the monthly payment for your loan.\n",
      "------------------------------------------------------\n",
      "For a 30.0 year mortgage loan of GHS 100000.0 at an annual interest rate of 7.50% you pay\n",
      "GHS 699.21 monthly\n",
      "------------------------------------------------------\n",
      "Total amount paid will be GHS 251717.22\n",
      "------------------------------------------------------\n",
      "Congratulations! You are one step closer to building your factories.\n"
     ]
    }
   ],
   "source": [
    "##Mortgae Calculator\n",
    "principal = float(input(\"Enter the loan principal: \"))\n",
    "annual_interest_rate = float(input(\"Enter the annual interest rate (as a percentage): \"))\n",
    "years = float(input(\"Enter the number of years to pay off the mortgage: \"))\n",
    "\n",
    "monthly_interest_rate = annual_interest_rate / 12 / 100\n",
    "months = years * 12\n",
    "\n",
    "monthly_payment = principal * (monthly_interest_rate * (1 + monthly_interest_rate) ** months) / ((1 + monthly_interest_rate) ** months - 1)\n",
    "total_amount_paid = monthly_payment * months\n",
    "\n",
    "print(\"Welcome to the Mortgage Calculator!\")\n",
    "print(\"You have taken the first step towards your dream factory.\")\n",
    "print(\"Now, let's calculate the monthly payment for your loan.\")\n",
    "print(\"------------------------------------------------------\")\n",
    "print(f\"For a {years} year mortgage loan of GHS {principal} at an annual interest rate of {annual_interest_rate:.2f}% you pay\")\n",
    "print(f\"GHS {monthly_payment:.2f} monthly\")\n",
    "print(\"------------------------------------------------------\")\n",
    "print(f\"Total amount paid will be GHS {total_amount_paid:.2f}\")\n",
    "print(\"------------------------------------------------------\")\n",
    "print(\"Congratulations! You are one step closer to building your factories.\")\n"
   ]
  },
  {
   "cell_type": "code",
   "execution_count": null,
   "id": "048d5da7",
   "metadata": {},
   "outputs": [],
   "source": []
  }
 ],
 "metadata": {
  "kernelspec": {
   "display_name": "Python 3 (ipykernel)",
   "language": "python",
   "name": "python3"
  },
  "language_info": {
   "codemirror_mode": {
    "name": "ipython",
    "version": 3
   },
   "file_extension": ".py",
   "mimetype": "text/x-python",
   "name": "python",
   "nbconvert_exporter": "python",
   "pygments_lexer": "ipython3",
   "version": "3.11.5"
  }
 },
 "nbformat": 4,
 "nbformat_minor": 5
}
